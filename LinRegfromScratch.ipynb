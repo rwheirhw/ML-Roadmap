{
  "nbformat": 4,
  "nbformat_minor": 0,
  "metadata": {
    "colab": {
      "provenance": [],
      "authorship_tag": "ABX9TyO3EtfpntOhVEm+ZWbgZ7n7",
      "include_colab_link": true
    },
    "kernelspec": {
      "name": "python3",
      "display_name": "Python 3"
    },
    "language_info": {
      "name": "python"
    }
  },
  "cells": [
    {
      "cell_type": "markdown",
      "metadata": {
        "id": "view-in-github",
        "colab_type": "text"
      },
      "source": [
        "<a href=\"https://colab.research.google.com/github/rwheirhw/ML-Roadmap/blob/main/LinRegfromScratch.ipynb\" target=\"_parent\"><img src=\"https://colab.research.google.com/assets/colab-badge.svg\" alt=\"Open In Colab\"/></a>"
      ]
    },
    {
      "cell_type": "code",
      "execution_count": 34,
      "metadata": {
        "id": "BkkZe18adI2z"
      },
      "outputs": [],
      "source": [
        "import numpy as np\n",
        "import pandas as pd\n",
        "import matplotlib.pyplot as plt"
      ]
    },
    {
      "cell_type": "code",
      "source": [
        "class NormalFormRegression:\n",
        "  def __init__(self):\n",
        "    self.theta=None\n",
        "\n",
        "  def fit(self,X,y):\n",
        "    b = np.c_[np.ones((X.shape[0],1)),X]\n",
        "\n",
        "    try:\n",
        "      self.theta = np.linalg.inv(b.T@b)@b.T@y\n",
        "    except np.linalg.LinAlgError:\n",
        "      raise ValueError(\"The matrix X is non invertibe, Check for high correlation(multicollinearity) in features.\")\n",
        "    return self\n",
        "\n",
        "  def predict(self,X):\n",
        "    if self.theta is None:\n",
        "            raise RuntimeError(\"The model is not fitted yet. Call fit() before predicting.\")\n",
        "    b = np.c_[np.ones((X.shape[0],1)),X]\n",
        "\n",
        "    return b@self.theta"
      ],
      "metadata": {
        "id": "ESsg4pHcdM0x"
      },
      "execution_count": 2,
      "outputs": []
    },
    {
      "cell_type": "code",
      "source": [
        "X = 25*np.random.rand(24,1)\n"
      ],
      "metadata": {
        "id": "BxL5a0JT2Xa4"
      },
      "execution_count": 45,
      "outputs": []
    },
    {
      "cell_type": "code",
      "source": [
        "#Trying to plot y as y=4+3x+k(noise)\n",
        "y = 4+3*X+np.random.rand(24,1)"
      ],
      "metadata": {
        "id": "uUe_xFDzpjS1"
      },
      "execution_count": 46,
      "outputs": []
    },
    {
      "cell_type": "code",
      "source": [
        "model = NormalFormRegression()"
      ],
      "metadata": {
        "id": "69cexAwzYWZf"
      },
      "execution_count": 47,
      "outputs": []
    },
    {
      "cell_type": "code",
      "source": [
        "model.fit(X,y)"
      ],
      "metadata": {
        "colab": {
          "base_uri": "https://localhost:8080/"
        },
        "id": "nq7yAHgVYa14",
        "outputId": "65dc237f-e714-434e-a838-8379624e0d47"
      },
      "execution_count": 48,
      "outputs": [
        {
          "output_type": "execute_result",
          "data": {
            "text/plain": [
              "<__main__.NormalFormRegression at 0x7b6168da4050>"
            ]
          },
          "metadata": {},
          "execution_count": 48
        }
      ]
    },
    {
      "cell_type": "code",
      "source": [
        "print(\"Learned Parameters (theta):\")\n",
        "print(f\"Intercept (theta_0): {model.theta[0][0]:.4f}\")\n",
        "print(f\"Slope (theta_1): {model.theta[1][0]:.4f}\")"
      ],
      "metadata": {
        "colab": {
          "base_uri": "https://localhost:8080/"
        },
        "id": "CUsNK5z_Ycwi",
        "outputId": "e0f5d85f-8f6b-45ef-fd89-0ac091fbcdfc"
      },
      "execution_count": 49,
      "outputs": [
        {
          "output_type": "stream",
          "name": "stdout",
          "text": [
            "Learned Parameters (theta):\n",
            "Intercept (theta_0): 4.6702\n",
            "Slope (theta_1): 2.9857\n"
          ]
        }
      ]
    },
    {
      "cell_type": "code",
      "source": [
        "X_new = np.array([[2],[6]])\n",
        "y_pred = model.predict(X_new)\n",
        "print(\"\\nPredictions for new data points [[2], [6]]:\")\n",
        "print(y_pred)"
      ],
      "metadata": {
        "colab": {
          "base_uri": "https://localhost:8080/"
        },
        "id": "qq9hHP-VYlV5",
        "outputId": "40348d76-9abe-4bb7-9c0d-6c42049c2f0f"
      },
      "execution_count": 50,
      "outputs": [
        {
          "output_type": "stream",
          "name": "stdout",
          "text": [
            "\n",
            "Predictions for new data points [[2], [6]]:\n",
            "[[10.64155821]\n",
            " [22.58437392]]\n"
          ]
        }
      ]
    },
    {
      "cell_type": "code",
      "source": [
        "plt.figure(figsize=(8, 6))\n",
        "plt.scatter(X, y, alpha=0.6, label='Original data')\n",
        "plt.plot(X_new, y_pred, 'r-', linewidth=2, label='Regression line')\n",
        "plt.title('Linear Regression using Normal Equation')\n",
        "plt.xlabel('X')\n",
        "plt.ylabel('y')\n",
        "plt.legend()\n",
        "plt.grid(True)\n",
        "plt.show()"
      ],
      "metadata": {
        "colab": {
          "base_uri": "https://localhost:8080/",
          "height": 564
        },
        "id": "QrRQcawhY6Oj",
        "outputId": "38e5a5d8-96a5-4e85-b65c-fc6cbd948211"
      },
      "execution_count": 51,
      "outputs": [
        {
          "output_type": "display_data",
          "data": {
            "text/plain": [
              "<Figure size 800x600 with 1 Axes>"
            ],
            "image/png": "[encoded data removed]"
          },
          "metadata": {}
        }
      ]
    },
    {
      "cell_type": "code",
      "source": [],
      "metadata": {
        "id": "ypWEsxJEZOq_"
      },
      "execution_count": null,
      "outputs": []
    }
  ]
}